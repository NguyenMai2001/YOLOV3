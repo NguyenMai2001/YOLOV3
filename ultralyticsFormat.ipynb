{
  "nbformat": 4,
  "nbformat_minor": 0,
  "metadata": {
    "colab": {
      "name": "ultralyticsFormat.ipynb",
      "provenance": [],
      "collapsed_sections": [],
      "authorship_tag": "ABX9TyMmC/pOxQChRK6Mehct/Ous",
      "include_colab_link": true
    },
    "kernelspec": {
      "name": "python3",
      "display_name": "Python 3"
    },
    "language_info": {
      "name": "python"
    }
  },
  "cells": [
    {
      "cell_type": "markdown",
      "metadata": {
        "id": "view-in-github",
        "colab_type": "text"
      },
      "source": [
        "<a href=\"https://colab.research.google.com/github/NguyenMai2001/YOLOV3/blob/master/ultralyticsFormat.ipynb\" target=\"_parent\"><img src=\"https://colab.research.google.com/assets/colab-badge.svg\" alt=\"Open In Colab\"/></a>"
      ]
    },
    {
      "cell_type": "code",
      "metadata": {
        "colab": {
          "base_uri": "https://localhost:8080/"
        },
        "id": "tcJ-G3KAq3iw",
        "outputId": "d9aadc7f-e46b-48e4-fdbf-7b0d9281146c"
      },
      "source": [
        "from google.colab import drive\n",
        "drive.mount('/content/drive')"
      ],
      "execution_count": 4,
      "outputs": [
        {
          "output_type": "stream",
          "name": "stdout",
          "text": [
            "Mounted at /content/drive\n"
          ]
        }
      ]
    },
    {
      "cell_type": "code",
      "metadata": {
        "id": "CbxDFykLrAN0"
      },
      "source": [
        "import glob\n",
        "import random\n",
        "import os\n",
        "import shutil"
      ],
      "execution_count": 5,
      "outputs": []
    },
    {
      "cell_type": "code",
      "metadata": {
        "id": "6p4tsChZsxVz",
        "colab": {
          "base_uri": "https://localhost:8080/"
        },
        "outputId": "017b357f-3694-4a3b-fee8-8bec672edc31"
      },
      "source": [
        "PATH = '/content/drive/MyDrive/COLAB/YOLOv3/images_dataset/Person'\n",
        "img_paths = glob.glob(PATH+'/*.jpg')\n",
        "txt_paths = glob.glob(PATH+'/*.txt')\n",
        "\n",
        "print(len(img_paths))"
      ],
      "execution_count": 18,
      "outputs": [
        {
          "output_type": "stream",
          "name": "stdout",
          "text": [
            "1000\n"
          ]
        }
      ]
    },
    {
      "cell_type": "code",
      "metadata": {
        "id": "bmFIxpACwJlW"
      },
      "source": [
        "data_size = len(img_paths)\n",
        "r = 0.7\n",
        "train_size = int(data_size * r)"
      ],
      "execution_count": 13,
      "outputs": []
    },
    {
      "cell_type": "code",
      "metadata": {
        "id": "HFDfX4lzVokp"
      },
      "source": [
        "# Shuffle two list\n",
        "img_txt = list(zip(img_paths, txt_paths))\n",
        "random.seed(43)\n",
        "random.shuffle(img_txt)\n",
        "img_paths, txt_paths = zip(*img_txt)"
      ],
      "execution_count": 14,
      "outputs": []
    },
    {
      "cell_type": "code",
      "metadata": {
        "colab": {
          "base_uri": "https://localhost:8080/"
        },
        "id": "PNQQIeWqVwiP",
        "outputId": "79588b79-2284-4ce2-f031-136b4224d6cc"
      },
      "source": [
        "#split\n",
        "train_img_paths = img_paths[:train_size]\n",
        "train_txt_paths = txt_paths[:train_size]\n",
        "\n",
        "valid_img_paths = img_paths[train_size:]\n",
        "valid_txt_paths = txt_paths[train_size:]\n",
        "\n",
        "len(train_img_paths), len(valid_img_paths)"
      ],
      "execution_count": 17,
      "outputs": [
        {
          "output_type": "execute_result",
          "data": {
            "text/plain": [
              "(700, 300)"
            ]
          },
          "metadata": {},
          "execution_count": 17
        }
      ]
    },
    {
      "cell_type": "code",
      "metadata": {
        "id": "s9CY1mr3WBS7"
      },
      "source": [
        "# Move them to images, labels folders\n",
        "path = '/content/drive/MyDrive/COLAB/YOLOv3/images_dataset/datatrain'\n",
        "images = path+'/images' \n",
        "labels = path+'/labels'\n",
        "os.mkdir(images)\n",
        "os.mkdir(labels)\n",
        "\n",
        "train_img = images + '/train'\n",
        "val_img = images + '/val'\n",
        "\n",
        "train_label = labels + '/train'\n",
        "val_label = labels + '/val'\n",
        "\n",
        "os.mkdir(train_img)\n",
        "os.mkdir(val_img)\n",
        "os.mkdir(train_label)\n",
        "os.mkdir(val_label)\n",
        "\n",
        "def move(paths, folder):\n",
        "    for p in paths:\n",
        "        shutil.move(p, folder)"
      ],
      "execution_count": 23,
      "outputs": []
    },
    {
      "cell_type": "code",
      "metadata": {
        "id": "Ff1kl23TZ7Sm"
      },
      "source": [
        "move(train_img_paths, train_img)\n",
        "move(valid_img_paths, val_img)\n",
        "move(train_txt_paths, train_label)\n",
        "move(valid_txt_paths, val_label)"
      ],
      "execution_count": 24,
      "outputs": []
    }
  ]
}