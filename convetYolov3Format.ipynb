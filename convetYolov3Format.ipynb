{
  "nbformat": 4,
  "nbformat_minor": 0,
  "metadata": {
    "colab": {
      "name": "convetYolov3Format.ipynb",
      "provenance": [],
      "collapsed_sections": [],
      "mount_file_id": "1TBJA_jHOAHkDheEKG-aI52Pf1FH7lekY",
      "authorship_tag": "ABX9TyMdUl/GIRPrYlPwFw1kuY5p",
      "include_colab_link": true
    },
    "kernelspec": {
      "name": "python3",
      "display_name": "Python 3"
    },
    "language_info": {
      "name": "python"
    }
  },
  "cells": [
    {
      "cell_type": "markdown",
      "metadata": {
        "id": "view-in-github",
        "colab_type": "text"
      },
      "source": [
        "<a href=\"https://colab.research.google.com/github/NguyenMai2001/YOLOV3/blob/master/convetYolov3Format.ipynb\" target=\"_parent\"><img src=\"https://colab.research.google.com/assets/colab-badge.svg\" alt=\"Open In Colab\"/></a>"
      ]
    },
    {
      "cell_type": "code",
      "metadata": {
        "id": "-0KhM5bFwsNJ"
      },
      "source": [
        "from google.colab import drive\n",
        "drive.mount('/content/drive')"
      ],
      "execution_count": null,
      "outputs": []
    },
    {
      "cell_type": "code",
      "metadata": {
        "id": "P8sJeqP6Nboh"
      },
      "source": [
        "import os\n",
        "import pandas as pd"
      ],
      "execution_count": null,
      "outputs": []
    },
    {
      "cell_type": "code",
      "metadata": {
        "colab": {
          "base_uri": "https://localhost:8080/",
          "height": 204
        },
        "id": "P8yODPl5P6S0",
        "outputId": "7a34afa5-ad40-4ee0-a2ad-d640400cdc4d"
      },
      "source": [
        "os.chdir(\"/content/drive/MyDrive/COLAB/YOLOv3/images_dataset/csv_folder\")\n",
        "classes_data = pd.read_csv(\"class-descriptions-boxable.csv\", header=None)\n",
        "classes_data.head()"
      ],
      "execution_count": null,
      "outputs": [
        {
          "output_type": "execute_result",
          "data": {
            "text/html": [
              "<div>\n",
              "<style scoped>\n",
              "    .dataframe tbody tr th:only-of-type {\n",
              "        vertical-align: middle;\n",
              "    }\n",
              "\n",
              "    .dataframe tbody tr th {\n",
              "        vertical-align: top;\n",
              "    }\n",
              "\n",
              "    .dataframe thead th {\n",
              "        text-align: right;\n",
              "    }\n",
              "</style>\n",
              "<table border=\"1\" class=\"dataframe\">\n",
              "  <thead>\n",
              "    <tr style=\"text-align: right;\">\n",
              "      <th></th>\n",
              "      <th>0</th>\n",
              "      <th>1</th>\n",
              "    </tr>\n",
              "  </thead>\n",
              "  <tbody>\n",
              "    <tr>\n",
              "      <th>0</th>\n",
              "      <td>/m/011k07</td>\n",
              "      <td>Tortoise</td>\n",
              "    </tr>\n",
              "    <tr>\n",
              "      <th>1</th>\n",
              "      <td>/m/011q46kg</td>\n",
              "      <td>Container</td>\n",
              "    </tr>\n",
              "    <tr>\n",
              "      <th>2</th>\n",
              "      <td>/m/012074</td>\n",
              "      <td>Magpie</td>\n",
              "    </tr>\n",
              "    <tr>\n",
              "      <th>3</th>\n",
              "      <td>/m/0120dh</td>\n",
              "      <td>Sea turtle</td>\n",
              "    </tr>\n",
              "    <tr>\n",
              "      <th>4</th>\n",
              "      <td>/m/01226z</td>\n",
              "      <td>Football</td>\n",
              "    </tr>\n",
              "  </tbody>\n",
              "</table>\n",
              "</div>"
            ],
            "text/plain": [
              "             0           1\n",
              "0    /m/011k07    Tortoise\n",
              "1  /m/011q46kg   Container\n",
              "2    /m/012074      Magpie\n",
              "3    /m/0120dh  Sea turtle\n",
              "4    /m/01226z    Football"
            ]
          },
          "metadata": {},
          "execution_count": 3
        }
      ]
    },
    {
      "cell_type": "code",
      "metadata": {
        "colab": {
          "base_uri": "https://localhost:8080/"
        },
        "id": "xah64Wn8S7mb",
        "outputId": "33c61bad-5582-40fd-c096-a02b28012aaf"
      },
      "source": [
        "print(classes_data[1])"
      ],
      "execution_count": null,
      "outputs": [
        {
          "output_type": "stream",
          "name": "stdout",
          "text": [
            "0        Tortoise\n",
            "1       Container\n",
            "2          Magpie\n",
            "3      Sea turtle\n",
            "4        Football\n",
            "          ...    \n",
            "596    Wheelchair\n",
            "597    Rugby ball\n",
            "598     Armadillo\n",
            "599       Maracas\n",
            "600        Helmet\n",
            "Name: 1, Length: 601, dtype: object\n"
          ]
        }
      ]
    },
    {
      "cell_type": "code",
      "metadata": {
        "colab": {
          "base_uri": "https://localhost:8080/"
        },
        "id": "1SeLWjJgQmnO",
        "outputId": "25868009-3ed2-45ac-c37a-5281a625beb7"
      },
      "source": [
        "#define class\n",
        "classes = ['Person']\n",
        "\n",
        "class_strings = []\n",
        "for i in classes:\n",
        "  req_classes = classes_data.loc[classes_data[1]==i]\n",
        "  string = req_classes.iloc[0][0]\n",
        "  print(string)\n",
        "  class_strings.append(string)\n",
        "\n",
        "print(class_strings)"
      ],
      "execution_count": null,
      "outputs": [
        {
          "output_type": "stream",
          "name": "stdout",
          "text": [
            "/m/01g317\n",
            "['/m/01g317']\n"
          ]
        }
      ]
    },
    {
      "cell_type": "code",
      "metadata": {
        "colab": {
          "base_uri": "https://localhost:8080/",
          "height": 204
        },
        "id": "zolVPRN9UJ15",
        "outputId": "c6896b10-9b40-414c-af1e-77c73ccdfe0a"
      },
      "source": [
        "annotation_data = pd.read_csv(\"train-annotations-bbox.csv\",\n",
        "                              usecols=['ImageID',\n",
        "                                       'LabelName',\n",
        "                                       'XMin',\n",
        "                                       'XMax',\n",
        "                                       'YMin',\n",
        "                                       'YMax'])\n",
        "\n",
        "annotation_data.head()"
      ],
      "execution_count": null,
      "outputs": [
        {
          "output_type": "execute_result",
          "data": {
            "text/html": [
              "<div>\n",
              "<style scoped>\n",
              "    .dataframe tbody tr th:only-of-type {\n",
              "        vertical-align: middle;\n",
              "    }\n",
              "\n",
              "    .dataframe tbody tr th {\n",
              "        vertical-align: top;\n",
              "    }\n",
              "\n",
              "    .dataframe thead th {\n",
              "        text-align: right;\n",
              "    }\n",
              "</style>\n",
              "<table border=\"1\" class=\"dataframe\">\n",
              "  <thead>\n",
              "    <tr style=\"text-align: right;\">\n",
              "      <th></th>\n",
              "      <th>ImageID</th>\n",
              "      <th>LabelName</th>\n",
              "      <th>XMin</th>\n",
              "      <th>XMax</th>\n",
              "      <th>YMin</th>\n",
              "      <th>YMax</th>\n",
              "    </tr>\n",
              "  </thead>\n",
              "  <tbody>\n",
              "    <tr>\n",
              "      <th>0</th>\n",
              "      <td>000002b66c9c498e</td>\n",
              "      <td>/m/01g317</td>\n",
              "      <td>0.012500</td>\n",
              "      <td>0.195312</td>\n",
              "      <td>0.148438</td>\n",
              "      <td>0.587500</td>\n",
              "    </tr>\n",
              "    <tr>\n",
              "      <th>1</th>\n",
              "      <td>000002b66c9c498e</td>\n",
              "      <td>/m/01g317</td>\n",
              "      <td>0.025000</td>\n",
              "      <td>0.276563</td>\n",
              "      <td>0.714063</td>\n",
              "      <td>0.948438</td>\n",
              "    </tr>\n",
              "    <tr>\n",
              "      <th>2</th>\n",
              "      <td>000002b66c9c498e</td>\n",
              "      <td>/m/01g317</td>\n",
              "      <td>0.151562</td>\n",
              "      <td>0.310937</td>\n",
              "      <td>0.198437</td>\n",
              "      <td>0.590625</td>\n",
              "    </tr>\n",
              "    <tr>\n",
              "      <th>3</th>\n",
              "      <td>000002b66c9c498e</td>\n",
              "      <td>/m/01g317</td>\n",
              "      <td>0.256250</td>\n",
              "      <td>0.429688</td>\n",
              "      <td>0.651563</td>\n",
              "      <td>0.925000</td>\n",
              "    </tr>\n",
              "    <tr>\n",
              "      <th>4</th>\n",
              "      <td>000002b66c9c498e</td>\n",
              "      <td>/m/01g317</td>\n",
              "      <td>0.257812</td>\n",
              "      <td>0.346875</td>\n",
              "      <td>0.235938</td>\n",
              "      <td>0.385938</td>\n",
              "    </tr>\n",
              "  </tbody>\n",
              "</table>\n",
              "</div>"
            ],
            "text/plain": [
              "            ImageID  LabelName      XMin      XMax      YMin      YMax\n",
              "0  000002b66c9c498e  /m/01g317  0.012500  0.195312  0.148438  0.587500\n",
              "1  000002b66c9c498e  /m/01g317  0.025000  0.276563  0.714063  0.948438\n",
              "2  000002b66c9c498e  /m/01g317  0.151562  0.310937  0.198437  0.590625\n",
              "3  000002b66c9c498e  /m/01g317  0.256250  0.429688  0.651563  0.925000\n",
              "4  000002b66c9c498e  /m/01g317  0.257812  0.346875  0.235938  0.385938"
            ]
          },
          "metadata": {},
          "execution_count": 9
        }
      ]
    },
    {
      "cell_type": "code",
      "metadata": {
        "colab": {
          "base_uri": "https://localhost:8080/",
          "height": 204
        },
        "id": "iNtxktkiWe9j",
        "outputId": "1abecf21-a468-468c-a675-ec7b0a2376e1"
      },
      "source": [
        "#get label matching with class\n",
        "filtered_class_data = annotation_data.loc[annotation_data['LabelName'].isin(class_strings)].copy()\n",
        "filtered_class_data.head()"
      ],
      "execution_count": null,
      "outputs": [
        {
          "output_type": "execute_result",
          "data": {
            "text/html": [
              "<div>\n",
              "<style scoped>\n",
              "    .dataframe tbody tr th:only-of-type {\n",
              "        vertical-align: middle;\n",
              "    }\n",
              "\n",
              "    .dataframe tbody tr th {\n",
              "        vertical-align: top;\n",
              "    }\n",
              "\n",
              "    .dataframe thead th {\n",
              "        text-align: right;\n",
              "    }\n",
              "</style>\n",
              "<table border=\"1\" class=\"dataframe\">\n",
              "  <thead>\n",
              "    <tr style=\"text-align: right;\">\n",
              "      <th></th>\n",
              "      <th>ImageID</th>\n",
              "      <th>LabelName</th>\n",
              "      <th>XMin</th>\n",
              "      <th>XMax</th>\n",
              "      <th>YMin</th>\n",
              "      <th>YMax</th>\n",
              "    </tr>\n",
              "  </thead>\n",
              "  <tbody>\n",
              "    <tr>\n",
              "      <th>0</th>\n",
              "      <td>000002b66c9c498e</td>\n",
              "      <td>/m/01g317</td>\n",
              "      <td>0.012500</td>\n",
              "      <td>0.195312</td>\n",
              "      <td>0.148438</td>\n",
              "      <td>0.587500</td>\n",
              "    </tr>\n",
              "    <tr>\n",
              "      <th>1</th>\n",
              "      <td>000002b66c9c498e</td>\n",
              "      <td>/m/01g317</td>\n",
              "      <td>0.025000</td>\n",
              "      <td>0.276563</td>\n",
              "      <td>0.714063</td>\n",
              "      <td>0.948438</td>\n",
              "    </tr>\n",
              "    <tr>\n",
              "      <th>2</th>\n",
              "      <td>000002b66c9c498e</td>\n",
              "      <td>/m/01g317</td>\n",
              "      <td>0.151562</td>\n",
              "      <td>0.310937</td>\n",
              "      <td>0.198437</td>\n",
              "      <td>0.590625</td>\n",
              "    </tr>\n",
              "    <tr>\n",
              "      <th>3</th>\n",
              "      <td>000002b66c9c498e</td>\n",
              "      <td>/m/01g317</td>\n",
              "      <td>0.256250</td>\n",
              "      <td>0.429688</td>\n",
              "      <td>0.651563</td>\n",
              "      <td>0.925000</td>\n",
              "    </tr>\n",
              "    <tr>\n",
              "      <th>4</th>\n",
              "      <td>000002b66c9c498e</td>\n",
              "      <td>/m/01g317</td>\n",
              "      <td>0.257812</td>\n",
              "      <td>0.346875</td>\n",
              "      <td>0.235938</td>\n",
              "      <td>0.385938</td>\n",
              "    </tr>\n",
              "  </tbody>\n",
              "</table>\n",
              "</div>"
            ],
            "text/plain": [
              "            ImageID  LabelName      XMin      XMax      YMin      YMax\n",
              "0  000002b66c9c498e  /m/01g317  0.012500  0.195312  0.148438  0.587500\n",
              "1  000002b66c9c498e  /m/01g317  0.025000  0.276563  0.714063  0.948438\n",
              "2  000002b66c9c498e  /m/01g317  0.151562  0.310937  0.198437  0.590625\n",
              "3  000002b66c9c498e  /m/01g317  0.256250  0.429688  0.651563  0.925000\n",
              "4  000002b66c9c498e  /m/01g317  0.257812  0.346875  0.235938  0.385938"
            ]
          },
          "metadata": {},
          "execution_count": 10
        }
      ]
    },
    {
      "cell_type": "code",
      "metadata": {
        "colab": {
          "base_uri": "https://localhost:8080/",
          "height": 204
        },
        "id": "71I0kOdjYGXK",
        "outputId": "83147890-ce01-4233-d1a7-6cab8082f4ad"
      },
      "source": [
        "#add new columns for Yolo format\n",
        "\n",
        "filtered_class_data['classNumber'] = ''\n",
        "filtered_class_data['center x'] = ''\n",
        "filtered_class_data['center y'] = ''\n",
        "filtered_class_data['width'] = ''\n",
        "filtered_class_data['height'] = ''\n",
        "\n",
        "filtered_class_data.head()"
      ],
      "execution_count": null,
      "outputs": [
        {
          "output_type": "execute_result",
          "data": {
            "text/html": [
              "<div>\n",
              "<style scoped>\n",
              "    .dataframe tbody tr th:only-of-type {\n",
              "        vertical-align: middle;\n",
              "    }\n",
              "\n",
              "    .dataframe tbody tr th {\n",
              "        vertical-align: top;\n",
              "    }\n",
              "\n",
              "    .dataframe thead th {\n",
              "        text-align: right;\n",
              "    }\n",
              "</style>\n",
              "<table border=\"1\" class=\"dataframe\">\n",
              "  <thead>\n",
              "    <tr style=\"text-align: right;\">\n",
              "      <th></th>\n",
              "      <th>ImageID</th>\n",
              "      <th>LabelName</th>\n",
              "      <th>XMin</th>\n",
              "      <th>XMax</th>\n",
              "      <th>YMin</th>\n",
              "      <th>YMax</th>\n",
              "      <th>classNumber</th>\n",
              "      <th>center x</th>\n",
              "      <th>center y</th>\n",
              "      <th>width</th>\n",
              "      <th>height</th>\n",
              "    </tr>\n",
              "  </thead>\n",
              "  <tbody>\n",
              "    <tr>\n",
              "      <th>0</th>\n",
              "      <td>000002b66c9c498e</td>\n",
              "      <td>/m/01g317</td>\n",
              "      <td>0.012500</td>\n",
              "      <td>0.195312</td>\n",
              "      <td>0.148438</td>\n",
              "      <td>0.587500</td>\n",
              "      <td></td>\n",
              "      <td></td>\n",
              "      <td></td>\n",
              "      <td></td>\n",
              "      <td></td>\n",
              "    </tr>\n",
              "    <tr>\n",
              "      <th>1</th>\n",
              "      <td>000002b66c9c498e</td>\n",
              "      <td>/m/01g317</td>\n",
              "      <td>0.025000</td>\n",
              "      <td>0.276563</td>\n",
              "      <td>0.714063</td>\n",
              "      <td>0.948438</td>\n",
              "      <td></td>\n",
              "      <td></td>\n",
              "      <td></td>\n",
              "      <td></td>\n",
              "      <td></td>\n",
              "    </tr>\n",
              "    <tr>\n",
              "      <th>2</th>\n",
              "      <td>000002b66c9c498e</td>\n",
              "      <td>/m/01g317</td>\n",
              "      <td>0.151562</td>\n",
              "      <td>0.310937</td>\n",
              "      <td>0.198437</td>\n",
              "      <td>0.590625</td>\n",
              "      <td></td>\n",
              "      <td></td>\n",
              "      <td></td>\n",
              "      <td></td>\n",
              "      <td></td>\n",
              "    </tr>\n",
              "    <tr>\n",
              "      <th>3</th>\n",
              "      <td>000002b66c9c498e</td>\n",
              "      <td>/m/01g317</td>\n",
              "      <td>0.256250</td>\n",
              "      <td>0.429688</td>\n",
              "      <td>0.651563</td>\n",
              "      <td>0.925000</td>\n",
              "      <td></td>\n",
              "      <td></td>\n",
              "      <td></td>\n",
              "      <td></td>\n",
              "      <td></td>\n",
              "    </tr>\n",
              "    <tr>\n",
              "      <th>4</th>\n",
              "      <td>000002b66c9c498e</td>\n",
              "      <td>/m/01g317</td>\n",
              "      <td>0.257812</td>\n",
              "      <td>0.346875</td>\n",
              "      <td>0.235938</td>\n",
              "      <td>0.385938</td>\n",
              "      <td></td>\n",
              "      <td></td>\n",
              "      <td></td>\n",
              "      <td></td>\n",
              "      <td></td>\n",
              "    </tr>\n",
              "  </tbody>\n",
              "</table>\n",
              "</div>"
            ],
            "text/plain": [
              "            ImageID  LabelName      XMin  ...  center y  width  height\n",
              "0  000002b66c9c498e  /m/01g317  0.012500  ...                         \n",
              "1  000002b66c9c498e  /m/01g317  0.025000  ...                         \n",
              "2  000002b66c9c498e  /m/01g317  0.151562  ...                         \n",
              "3  000002b66c9c498e  /m/01g317  0.256250  ...                         \n",
              "4  000002b66c9c498e  /m/01g317  0.257812  ...                         \n",
              "\n",
              "[5 rows x 11 columns]"
            ]
          },
          "metadata": {},
          "execution_count": 12
        }
      ]
    },
    {
      "cell_type": "code",
      "metadata": {
        "colab": {
          "base_uri": "https://localhost:8080/",
          "height": 204
        },
        "id": "lBAdKbTxYz34",
        "outputId": "0ad4a040-40b7-4d4c-9751-cbf2c6bb268f"
      },
      "source": [
        "for i in range(len(class_strings)):\n",
        "  filtered_class_data.loc[filtered_class_data['LabelName'] == class_strings[i], 'classNumber'] = i\n",
        "\n",
        "#calculate center x and center y\n",
        "filtered_class_data['center x'] = (filtered_class_data['XMin'] + filtered_class_data['XMax'])/2\n",
        "filtered_class_data['center y'] = (filtered_class_data['YMin'] + filtered_class_data['YMax'])/2\n",
        "\n",
        "#calculate width and height\n",
        "filtered_class_data['width'] = (filtered_class_data['XMax'] - filtered_class_data['XMin'])\n",
        "filtered_class_data['height'] = (filtered_class_data['YMax'] - filtered_class_data['YMin'])\n",
        "\n",
        "#Yolo format\n",
        "Yolo_values = filtered_class_data.loc[:, ['ImageID', 'classNumber', 'center x', 'center y', 'width', 'height']].copy()\n",
        "Yolo_values.head()"
      ],
      "execution_count": null,
      "outputs": [
        {
          "output_type": "execute_result",
          "data": {
            "text/html": [
              "<div>\n",
              "<style scoped>\n",
              "    .dataframe tbody tr th:only-of-type {\n",
              "        vertical-align: middle;\n",
              "    }\n",
              "\n",
              "    .dataframe tbody tr th {\n",
              "        vertical-align: top;\n",
              "    }\n",
              "\n",
              "    .dataframe thead th {\n",
              "        text-align: right;\n",
              "    }\n",
              "</style>\n",
              "<table border=\"1\" class=\"dataframe\">\n",
              "  <thead>\n",
              "    <tr style=\"text-align: right;\">\n",
              "      <th></th>\n",
              "      <th>ImageID</th>\n",
              "      <th>classNumber</th>\n",
              "      <th>center x</th>\n",
              "      <th>center y</th>\n",
              "      <th>width</th>\n",
              "      <th>height</th>\n",
              "    </tr>\n",
              "  </thead>\n",
              "  <tbody>\n",
              "    <tr>\n",
              "      <th>0</th>\n",
              "      <td>000002b66c9c498e</td>\n",
              "      <td>0</td>\n",
              "      <td>0.103906</td>\n",
              "      <td>0.367969</td>\n",
              "      <td>0.182812</td>\n",
              "      <td>0.439062</td>\n",
              "    </tr>\n",
              "    <tr>\n",
              "      <th>1</th>\n",
              "      <td>000002b66c9c498e</td>\n",
              "      <td>0</td>\n",
              "      <td>0.150782</td>\n",
              "      <td>0.831250</td>\n",
              "      <td>0.251563</td>\n",
              "      <td>0.234375</td>\n",
              "    </tr>\n",
              "    <tr>\n",
              "      <th>2</th>\n",
              "      <td>000002b66c9c498e</td>\n",
              "      <td>0</td>\n",
              "      <td>0.231249</td>\n",
              "      <td>0.394531</td>\n",
              "      <td>0.159375</td>\n",
              "      <td>0.392188</td>\n",
              "    </tr>\n",
              "    <tr>\n",
              "      <th>3</th>\n",
              "      <td>000002b66c9c498e</td>\n",
              "      <td>0</td>\n",
              "      <td>0.342969</td>\n",
              "      <td>0.788282</td>\n",
              "      <td>0.173438</td>\n",
              "      <td>0.273437</td>\n",
              "    </tr>\n",
              "    <tr>\n",
              "      <th>4</th>\n",
              "      <td>000002b66c9c498e</td>\n",
              "      <td>0</td>\n",
              "      <td>0.302343</td>\n",
              "      <td>0.310938</td>\n",
              "      <td>0.089063</td>\n",
              "      <td>0.150000</td>\n",
              "    </tr>\n",
              "  </tbody>\n",
              "</table>\n",
              "</div>"
            ],
            "text/plain": [
              "            ImageID classNumber  center x  center y     width    height\n",
              "0  000002b66c9c498e           0  0.103906  0.367969  0.182812  0.439062\n",
              "1  000002b66c9c498e           0  0.150782  0.831250  0.251563  0.234375\n",
              "2  000002b66c9c498e           0  0.231249  0.394531  0.159375  0.392188\n",
              "3  000002b66c9c498e           0  0.342969  0.788282  0.173438  0.273437\n",
              "4  000002b66c9c498e           0  0.302343  0.310938  0.089063  0.150000"
            ]
          },
          "metadata": {},
          "execution_count": 13
        }
      ]
    },
    {
      "cell_type": "code",
      "metadata": {
        "id": "OrpRzULqe8sI"
      },
      "source": [
        "image_path = '/content/drive/MyDrive/COLAB/YOLOv3/images_dataset/Person'\n",
        "os.chdir(image_path)\n",
        "\n",
        "for current_dir, dirs, files in os.walk('.'):\n",
        "  for f in files:\n",
        "    if f.endswith('.jpg'):\n",
        "      image_title = f[:-4]\n",
        "      Yolo_file = Yolo_values.loc[Yolo_values['ImageID'] == image_title]\n",
        "\n",
        "      datafr = Yolo_file.loc[:, ['classNumber', 'center x', 'center y', 'width', 'height']].copy()\n",
        "\n",
        "      save_path = image_path + '/' + image_title + '.txt'\n",
        "\n",
        "      datafr.to_csv(save_path, header=False, index=False, sep=' ')\n"
      ],
      "execution_count": null,
      "outputs": []
    },
    {
      "cell_type": "code",
      "metadata": {
        "id": "4NCjFT8HkqO0"
      },
      "source": [
        ""
      ],
      "execution_count": null,
      "outputs": []
    }
  ]
}